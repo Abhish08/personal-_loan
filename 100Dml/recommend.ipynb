{
 "cells": [
  {
   "cell_type": "code",
   "execution_count": 2,
   "id": "35f19153-a5c0-4c4c-b875-c9e0252d82fd",
   "metadata": {},
   "outputs": [],
   "source": [
    "name=\"roy\"\n"
   ]
  },
  {
   "cell_type": "code",
   "execution_count": null,
   "id": "e02799d6-31e5-4989-9928-3bb2e7bb8876",
   "metadata": {},
   "outputs": [],
   "source": []
  }
 ],
 "metadata": {
  "kernelspec": {
   "display_name": "Python [conda env:base] *",
   "language": "python",
   "name": "conda-base-py"
  },
  "language_info": {
   "codemirror_mode": {
    "name": "ipython",
    "version": 3
   },
   "file_extension": ".py",
   "mimetype": "text/x-python",
   "name": "python",
   "nbconvert_exporter": "python",
   "pygments_lexer": "ipython3",
   "version": "3.12.7"
  }
 },
 "nbformat": 4,
 "nbformat_minor": 5
}
