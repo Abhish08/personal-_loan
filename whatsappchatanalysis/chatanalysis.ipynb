{
 "cells": [
  {
   "cell_type": "code",
   "execution_count": 59,
   "id": "cca55971-762a-42e8-863a-93b6feae93ae",
   "metadata": {},
   "outputs": [],
   "source": [
    "import pandas as pd\n",
    "import numpy as np\n",
    "import re\n"
   ]
  },
  {
   "cell_type": "code",
   "execution_count": 60,
   "id": "47a71371-48e4-4198-933a-d05159e324b5",
   "metadata": {},
   "outputs": [],
   "source": [
    "f=open('WhatsApp Chat with ICE 2  UNOFFICIAL.txt','r',encoding='utf-8')\n",
    "# re regular expression"
   ]
  },
  {
   "cell_type": "code",
   "execution_count": 61,
   "id": "f2c1bf39-12a8-4c80-8348-be0d298e9c8f",
   "metadata": {},
   "outputs": [],
   "source": [
    "data=f.read()"
   ]
  },
  {
   "cell_type": "code",
   "execution_count": 62,
   "id": "05ec78de-867e-49ff-afae-54f45481c39c",
   "metadata": {},
   "outputs": [
    {
     "name": "stdout",
     "output_type": "stream",
     "text": [
      "<class 'str'>\n"
     ]
    }
   ],
   "source": [
    "print(type(data))"
   ]
  },
  {
   "cell_type": "code",
   "execution_count": 63,
   "id": "e9284a4a-00bc-473c-8469-bc5cbfd794f3",
   "metadata": {},
   "outputs": [
    {
     "name": "stderr",
     "output_type": "stream",
     "text": [
      "<>:1: SyntaxWarning: invalid escape sequence '\\d'\n",
      "<>:1: SyntaxWarning: invalid escape sequence '\\d'\n",
      "/var/folders/d5/s33y7b8n1xj92385fh65c3h40000gn/T/ipykernel_49752/1677645027.py:1: SyntaxWarning: invalid escape sequence '\\d'\n",
      "  pattern='\\d{1,2}/\\d{1,2}/\\d{2,4},\\s\\d{1,2}:\\d{2}\\s-\\s'\n"
     ]
    }
   ],
   "source": [
    "pattern='\\d{1,2}/\\d{1,2}/\\d{2,4},\\s\\d{1,2}:\\d{2}\\s-\\s'\n",
    "\n"
   ]
  },
  {
   "cell_type": "code",
   "execution_count": 64,
   "id": "d68f33a4-d89a-472d-9b79-4c137be06426",
   "metadata": {},
   "outputs": [],
   "source": [
    "message=re.split(pattern,data)[1:]\n",
    "# message"
   ]
  },
  {
   "cell_type": "code",
   "execution_count": 69,
   "id": "7efeeaf5-4545-4540-886a-52249026521b",
   "metadata": {},
   "outputs": [],
   "source": [
    "dates=re.findall(pattern,data)\n",
    "# dates"
   ]
  },
  {
   "cell_type": "code",
   "execution_count": 70,
   "id": "0d7c29d0-23e7-4dcf-87d4-de8662969558",
   "metadata": {},
   "outputs": [],
   "source": [
    "df=pd.DataFrame({'user_message': message,'message_date':dates})"
   ]
  },
  {
   "cell_type": "code",
   "execution_count": 71,
   "id": "ed2b3555-f647-4ee1-aba2-de7a60761dfa",
   "metadata": {},
   "outputs": [
    {
     "data": {
      "text/plain": [
       "(16186, 2)"
      ]
     },
     "execution_count": 71,
     "metadata": {},
     "output_type": "execute_result"
    }
   ],
   "source": [
    "df['message_date'] = pd.to_datetime(df['message_date'], format=\"%d/%m/%Y, %H:%M - \")\n",
    "df.rename(columns={'message_date':'date'},inplace=True)\n",
    "df.shape"
   ]
  },
  {
   "cell_type": "code",
   "execution_count": 76,
   "id": "3a6169d2-e334-498d-b9e6-6521c89e930a",
   "metadata": {},
   "outputs": [
    {
     "name": "stderr",
     "output_type": "stream",
     "text": [
      "<>:4: SyntaxWarning: invalid escape sequence '\\w'\n",
      "<>:4: SyntaxWarning: invalid escape sequence '\\w'\n",
      "/var/folders/d5/s33y7b8n1xj92385fh65c3h40000gn/T/ipykernel_49752/1147115765.py:4: SyntaxWarning: invalid escape sequence '\\w'\n",
      "  entry = re.split('([\\w\\W]+?):\\s', message)\n"
     ]
    }
   ],
   "source": [
    "   users = []\n",
    "   messages = []\n",
    "   for message in df['user_message']:\n",
    "        entry = re.split('([\\w\\W]+?):\\s', message)\n",
    "        if entry[1:]:  # user name\n",
    "            users.append(entry[1])\n",
    "            messages.append(\" \".join(entry[2:]))\n",
    "        else:\n",
    "            users.append('group_notification')\n",
    "            messages.append(entry[0])\n",
    "\n",
    "   df['user'] = users\n",
    "   df['message'] = messages\n",
    "   df.drop(columns=['user_message'], inplace=True)"
   ]
  },
  {
   "cell_type": "code",
   "execution_count": 79,
   "id": "74b0d31d-b373-4461-a6d0-9878e4a2a002",
   "metadata": {},
   "outputs": [
    {
     "data": {
      "text/html": [
       "<div>\n",
       "<style scoped>\n",
       "    .dataframe tbody tr th:only-of-type {\n",
       "        vertical-align: middle;\n",
       "    }\n",
       "\n",
       "    .dataframe tbody tr th {\n",
       "        vertical-align: top;\n",
       "    }\n",
       "\n",
       "    .dataframe thead th {\n",
       "        text-align: right;\n",
       "    }\n",
       "</style>\n",
       "<table border=\"1\" class=\"dataframe\">\n",
       "  <thead>\n",
       "    <tr style=\"text-align: right;\">\n",
       "      <th></th>\n",
       "      <th>date</th>\n",
       "      <th>user</th>\n",
       "      <th>message</th>\n",
       "    </tr>\n",
       "  </thead>\n",
       "  <tbody>\n",
       "    <tr>\n",
       "      <th>13907</th>\n",
       "      <td>2025-02-24 13:52:00</td>\n",
       "      <td>Bhanuj Chowdhary Ice-2</td>\n",
       "      <td>Wo sab to theek hai bhai\\n</td>\n",
       "    </tr>\n",
       "    <tr>\n",
       "      <th>4581</th>\n",
       "      <td>2024-03-22 04:23:00</td>\n",
       "      <td>Anany Dixit Ice</td>\n",
       "      <td>&lt;Media omitted&gt;\\n</td>\n",
       "    </tr>\n",
       "    <tr>\n",
       "      <th>1338</th>\n",
       "      <td>2024-01-20 19:32:00</td>\n",
       "      <td>+91 74044 87188</td>\n",
       "      <td>Ok\\n</td>\n",
       "    </tr>\n",
       "    <tr>\n",
       "      <th>7789</th>\n",
       "      <td>2024-08-26 23:51:00</td>\n",
       "      <td>+91 99119 51045</td>\n",
       "      <td>Hai to hai\\n</td>\n",
       "    </tr>\n",
       "    <tr>\n",
       "      <th>1156</th>\n",
       "      <td>2024-01-18 11:10:00</td>\n",
       "      <td>+91 87450 67960</td>\n",
       "      <td>Koi jo pichhe baitha hoga please proxy lga den...</td>\n",
       "    </tr>\n",
       "  </tbody>\n",
       "</table>\n",
       "</div>"
      ],
      "text/plain": [
       "                     date                    user  \\\n",
       "13907 2025-02-24 13:52:00  Bhanuj Chowdhary Ice-2   \n",
       "4581  2024-03-22 04:23:00         Anany Dixit Ice   \n",
       "1338  2024-01-20 19:32:00         +91 74044 87188   \n",
       "7789  2024-08-26 23:51:00         +91 99119 51045   \n",
       "1156  2024-01-18 11:10:00         +91 87450 67960   \n",
       "\n",
       "                                                 message  \n",
       "13907                         Wo sab to theek hai bhai\\n  \n",
       "4581                                   <Media omitted>\\n  \n",
       "1338                                                Ok\\n  \n",
       "7789                                        Hai to hai\\n  \n",
       "1156   Koi jo pichhe baitha hoga please proxy lga den...  "
      ]
     },
     "execution_count": 79,
     "metadata": {},
     "output_type": "execute_result"
    }
   ],
   "source": [
    "df.sample(n=5)"
   ]
  },
  {
   "cell_type": "code",
   "execution_count": 82,
   "id": "2ee1d55a-c23b-4f52-ae82-205fee4aff3c",
   "metadata": {},
   "outputs": [],
   "source": [
    "df['year']=df['date'].dt.year\n",
    "df['month']=df['date'].dt.month\n",
    "df['month']=df['date'].dt.day\n",
    "df['minute']=df['date'].dt.minute"
   ]
  },
  {
   "cell_type": "code",
   "execution_count": 84,
   "id": "b979d1c2-4ee4-46cc-9035-30059c4bb87b",
   "metadata": {},
   "outputs": [
    {
     "data": {
      "text/html": [
       "<div>\n",
       "<style scoped>\n",
       "    .dataframe tbody tr th:only-of-type {\n",
       "        vertical-align: middle;\n",
       "    }\n",
       "\n",
       "    .dataframe tbody tr th {\n",
       "        vertical-align: top;\n",
       "    }\n",
       "\n",
       "    .dataframe thead th {\n",
       "        text-align: right;\n",
       "    }\n",
       "</style>\n",
       "<table border=\"1\" class=\"dataframe\">\n",
       "  <thead>\n",
       "    <tr style=\"text-align: right;\">\n",
       "      <th></th>\n",
       "      <th>date</th>\n",
       "      <th>user</th>\n",
       "      <th>message</th>\n",
       "      <th>year</th>\n",
       "      <th>month</th>\n",
       "      <th>minute</th>\n",
       "    </tr>\n",
       "  </thead>\n",
       "  <tbody>\n",
       "    <tr>\n",
       "      <th>7197</th>\n",
       "      <td>2024-08-14 20:50:00</td>\n",
       "      <td>Chandrakant</td>\n",
       "      <td>Han han bola toh usne pure sem ki chhuti 🫠🫠\\n</td>\n",
       "      <td>2024</td>\n",
       "      <td>14</td>\n",
       "      <td>50</td>\n",
       "    </tr>\n",
       "    <tr>\n",
       "      <th>14894</th>\n",
       "      <td>2025-04-13 18:52:00</td>\n",
       "      <td>+91 87007 70566</td>\n",
       "      <td>🥶\\n</td>\n",
       "      <td>2025</td>\n",
       "      <td>13</td>\n",
       "      <td>52</td>\n",
       "    </tr>\n",
       "    <tr>\n",
       "      <th>6717</th>\n",
       "      <td>2024-07-23 18:13:00</td>\n",
       "      <td>+91 98214 56582</td>\n",
       "      <td>2nd sem me to ho gya tha ig\\n</td>\n",
       "      <td>2024</td>\n",
       "      <td>23</td>\n",
       "      <td>13</td>\n",
       "    </tr>\n",
       "  </tbody>\n",
       "</table>\n",
       "</div>"
      ],
      "text/plain": [
       "                     date             user  \\\n",
       "7197  2024-08-14 20:50:00      Chandrakant   \n",
       "14894 2025-04-13 18:52:00  +91 87007 70566   \n",
       "6717  2024-07-23 18:13:00  +91 98214 56582   \n",
       "\n",
       "                                             message  year  month  minute  \n",
       "7197   Han han bola toh usne pure sem ki chhuti 🫠🫠\\n  2024     14      50  \n",
       "14894                                            🥶\\n  2025     13      52  \n",
       "6717                   2nd sem me to ho gya tha ig\\n  2024     23      13  "
      ]
     },
     "execution_count": 84,
     "metadata": {},
     "output_type": "execute_result"
    }
   ],
   "source": [
    "df.sample(n=3)"
   ]
  },
  {
   "cell_type": "code",
   "execution_count": 85,
   "id": "02396043-dc2d-4ea1-805f-8ce2b70862a3",
   "metadata": {},
   "outputs": [
    {
     "data": {
      "text/plain": [
       "0"
      ]
     },
     "execution_count": 85,
     "metadata": {},
     "output_type": "execute_result"
    }
   ],
   "source": []
  },
  {
   "cell_type": "code",
   "execution_count": null,
   "id": "fd4fa9ac-5e81-4ceb-9a87-0939ea81b080",
   "metadata": {},
   "outputs": [],
   "source": []
  }
 ],
 "metadata": {
  "kernelspec": {
   "display_name": "Python [conda env:base] *",
   "language": "python",
   "name": "conda-base-py"
  },
  "language_info": {
   "codemirror_mode": {
    "name": "ipython",
    "version": 3
   },
   "file_extension": ".py",
   "mimetype": "text/x-python",
   "name": "python",
   "nbconvert_exporter": "python",
   "pygments_lexer": "ipython3",
   "version": "3.12.7"
  }
 },
 "nbformat": 4,
 "nbformat_minor": 5
}
